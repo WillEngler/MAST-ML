{
 "cells": [
  {
   "cell_type": "markdown",
   "metadata": {
    "id": "zEuScQa-YTxH"
   },
   "source": [
    "# Welcome to the eighth MAST-ML tutorial notebook, \n",
    "\n",
    "# Model predictions with guide rails with MAST-ML! \n",
    "\n",
    "## In this notebook, we will learn how to perform simple checks on our test data:\n",
    "\n",
    "1. [Set up MAST-ML on Colab and begin session](#task1)\n",
    "2. [Fit models and check elemental spaces](#task2)\n",
    "3. [Fit models and check Gaussian Process Error Bars](#task3)\n",
    "4. [Fit models and check Domain with MADML](#task4)\n",
    "\n",
    "We need to first install dependencies"
   ]
  },
  {
   "cell_type": "markdown",
   "metadata": {
    "id": "qAaWiiqccj0Z"
   },
   "source": [
    "## Task 1: Set up MAST-ML on Colab and begin session <a name=\"task1\"></a>"
   ]
  },
  {
   "cell_type": "code",
   "execution_count": null,
   "metadata": {
    "colab": {
     "base_uri": "https://localhost:8080/"
    },
    "id": "3s7adwqvUvzm",
    "outputId": "3c1f9218-db03-4b2b-dd7f-2d164e10dfaa"
   },
   "outputs": [],
   "source": [
    "!pip install git+https://github.com/uw-cmg/MAST-ML/@dev_lane\n",
    "!pip install pyyaml==5.4.1"
   ]
  },
  {
   "cell_type": "markdown",
   "metadata": {
    "id": "eHnQfNrgY3Uu"
   },
   "source": [
    "Mount Google Drive to save output from runs."
   ]
  },
  {
   "cell_type": "code",
   "execution_count": null,
   "metadata": {
    "colab": {
     "base_uri": "https://localhost:8080/"
    },
    "id": "0enGVD7QVO4G",
    "outputId": "89c19595-03dc-433f-ffd3-09f8089ee794"
   },
   "outputs": [],
   "source": [
    "from google.colab import drive\n",
    "drive.mount('/content/drive', force_remount=True)\n"
   ]
  },
  {
   "cell_type": "markdown",
   "metadata": {
    "id": "oHJq2q2fZCRD"
   },
   "source": [
    "Import needed packages and subroutines for running example."
   ]
  },
  {
   "cell_type": "code",
   "execution_count": 1,
   "metadata": {},
   "outputs": [],
   "source": [
    "import sys\n",
    "my_path = '/home/nerve/Desktop/updates/MAST-ML'\n",
    "\n",
    "# Use this if your path is not already in sys.path\n",
    "if my_path not in sys.path:\n",
    "    sys.path.append(my_path)"
   ]
  },
  {
   "cell_type": "code",
   "execution_count": 13,
   "metadata": {
    "id": "_eM1p76gW2Yt"
   },
   "outputs": [],
   "source": [
    "from mastml.mastml import Mastml\n",
    "from mastml.datasets import LocalDatasets\n",
    "from mastml.models import SklearnModel, EnsembleModel\n",
    "from mastml.preprocessing import SklearnPreprocessor\n",
    "from mastml.data_splitters import SklearnDataSplitter, NoSplit, LeaveOutPercent\n",
    "from mastml.feature_selectors import EnsembleModelFeatureSelector\n",
    "from mastml.mastml_predictor import make_prediction\n",
    "from pathlib import Path\n",
    "import mastml\n",
    "import subprocess\n",
    "import glob\n",
    "import os\n",
    "try:\n",
    "    data_path = os.path.join(mastml.__path__._path[0], 'data')\n",
    "except:\n",
    "    data_path = os.path.join(mastml.__path__[0], 'data')\n"
   ]
  },
  {
   "cell_type": "markdown",
   "metadata": {
    "id": "vzqT3_kEZF58"
   },
   "source": [
    "Define the path to save data."
   ]
  },
  {
   "cell_type": "code",
   "execution_count": null,
   "metadata": {
    "id": "MrBExmXsW6-F"
   },
   "outputs": [],
   "source": [
    "SAVEPATH = 'drive/MyDrive/MASTML_tutorial_8_ModelPredictions_with_Guide_Rails'\n",
    "\n",
    "mastml_instance = Mastml(savepath=SAVEPATH)\n",
    "savepath = mastml_instance.get_savepath"
   ]
  },
  {
   "cell_type": "markdown",
   "metadata": {
    "id": "LT_CrB5rZIS6"
   },
   "source": [
    "Load the standard diffusion dataset."
   ]
  },
  {
   "cell_type": "code",
   "execution_count": 3,
   "metadata": {
    "colab": {
     "base_uri": "https://localhost:8080/"
    },
    "id": "fcUd8ESJXrX-",
    "outputId": "be47bd3a-c16e-4aed-ddfd-b1fe29df2314"
   },
   "outputs": [
    {
     "name": "stdout",
     "output_type": "stream",
     "text": [
      "WARNING: feature_names not specified but target was specified. Assuming all columns except target and extra columns are features\n"
     ]
    }
   ],
   "source": [
    "target = 'E_regression'\n",
    "\n",
    "extra_columns = ['Material compositions 1', 'Material compositions 2', 'Hop activation barrier']\n",
    "d = LocalDatasets(file_path=data_path+'/diffusion_data_allfeatures.xlsx', \n",
    "                  target=target, \n",
    "                  extra_columns=extra_columns, \n",
    "                  group_column='Material compositions 1',\n",
    "                  testdata_columns=None,\n",
    "                  as_frame=True)\n",
    "\n",
    "# Load the data with the load_data() method\n",
    "data_dict = d.load_data()\n",
    "\n",
    "# Let's assign each data object to its respective name\n",
    "X = data_dict['X']\n",
    "y = data_dict['y']\n",
    "X_extra = data_dict['X_extra']\n",
    "groups = data_dict['groups']\n",
    "X_testdata = data_dict['X_testdata']\n",
    "\n",
    "metrics = [\n",
    "           'r2_score',\n",
    "           'mean_absolute_error',\n",
    "           'root_mean_squared_error',\n",
    "           'rmse_over_stdev',\n",
    "           ]\n"
   ]
  },
  {
   "cell_type": "markdown",
   "metadata": {
    "id": "QvwP116Dcrxa"
   },
   "source": [
    "## Task 2: Fit models and check elemental spaces <a name=\"task1\"></a>"
   ]
  },
  {
   "cell_type": "markdown",
   "metadata": {
    "id": "SPUKH1kyZPGN"
   },
   "source": [
    "Setup machine learning which checks if an element from a test set was observed within the training set. If all elements from the test set are observed in the training set, the case is marked as \"in_domain\". If only some elements from the test set are observed in training data, then the case is marked as \"maybe_in_domain\". If none of the test elements are observed within training data, then the case is flagged as \"out_of_domain\"."
   ]
  },
  {
   "cell_type": "code",
   "execution_count": 5,
   "metadata": {
    "id": "cy2nvl13X86O"
   },
   "outputs": [],
   "source": [
    "preprocessor = SklearnPreprocessor(\n",
    "                                   preprocessor='StandardScaler',\n",
    "                                   as_frame=True,\n",
    "                                   )\n",
    "\n",
    "model = SklearnModel(model='RandomForestRegressor')\n",
    "\n",
    "splitter = SklearnDataSplitter(\n",
    "                               splitter='RepeatedKFold',\n",
    "                               n_repeats=10,\n",
    "                               n_splits=5,\n",
    "                               )\n",
    "splitter.evaluate(\n",
    "                  X=X,\n",
    "                  y=y, \n",
    "                  models=[model],\n",
    "                  preprocessor=preprocessor,\n",
    "                  metrics=metrics,\n",
    "                  plots=['Scatter', 'Histogram'],\n",
    "                  X_extra=X_extra,\n",
    "                  verbosity=3,\n",
    "                  domain=('elemental', groups),\n",
    "                  )"
   ]
  },
  {
   "cell_type": "markdown",
   "metadata": {
    "id": "1-K4ILEEZuHG"
   },
   "source": [
    "Here we use the error bars inherently in Gaussian Process Regression (GPR) to determine if we should flag a case as worrisome. Through 5-fold cross validation, we attain the maximum uncertainty from GPR and compare to tets cases. If the test case unceratinty is grater than the maximum training uncertainty, we mark the observation as \"out_of_domain\" and \"in_domain\" otherwise."
   ]
  },
  {
   "cell_type": "markdown",
   "metadata": {
    "id": "Gce-RKGWc2c4"
   },
   "source": [
    "## Task 3: Fit models and check Gaussian Process Error Bars <a name=\"task1\"></a>"
   ]
  },
  {
   "cell_type": "code",
   "execution_count": null,
   "metadata": {
    "colab": {
     "base_uri": "https://localhost:8080/"
    },
    "id": "-SvERU85YBa9",
    "outputId": "5cd66eae-0ff6-4e7c-a8b8-62a49cedd115"
   },
   "outputs": [],
   "source": [
    "splitter.evaluate(\n",
    "                  X=X,\n",
    "                  y=y, \n",
    "                  models=[model],\n",
    "                  preprocessor=preprocessor,\n",
    "                  metrics=metrics,\n",
    "                  plots=['Scatter', 'Histogram'],\n",
    "                  X_extra=X_extra,\n",
    "                  verbosity=3,\n",
    "                  domain='gpr',\n",
    "                  )"
   ]
  },
  {
   "cell_type": "markdown",
   "metadata": {},
   "source": [
    "## Task 4: Fit models and check domain with MADML  <a name=\"task4\"></a>"
   ]
  },
  {
   "cell_type": "markdown",
   "metadata": {},
   "source": [
    "Fit the kinds of models that we need for domain evaluation."
   ]
  },
  {
   "cell_type": "code",
   "execution_count": 6,
   "metadata": {},
   "outputs": [
    {
     "name": "stderr",
     "output_type": "stream",
     "text": [
      "Running splits:   0%|                                                                                                                               | 0/1 [00:00<?, ?it/s]"
     ]
    },
    {
     "name": "stdout",
     "output_type": "stream",
     "text": [
      "MADMl - Nested CV fit Fold: 1\n",
      "\n",
      "  0%|                                                                                                                                              | 0/30 [00:00<?, ?it/s]\u001b[A\n",
      "100%|█████████████████████████████████████████████████████████████████████████████████████████████████████████████████████████████████████| 30/30 [00:04<00:00,  6.91it/s]\u001b[A\n",
      "MADMl - Nested CV fit Fold: 2\n",
      "\n",
      "  0%|                                                                                                                                              | 0/30 [00:00<?, ?it/s]\u001b[A\n",
      "  3%|████▍                                                                                                                                 | 1/30 [00:03<01:42,  3.54s/it]\u001b[A\n",
      "100%|█████████████████████████████████████████████████████████████████████████████████████████████████████████████████████████████████████| 30/30 [00:03<00:00,  8.14it/s]\u001b[A\n",
      "MADMl - Nested CV fit Fold: 3\n",
      "\n",
      "  0%|                                                                                                                                              | 0/30 [00:00<?, ?it/s]\u001b[A\n",
      "  3%|████▍                                                                                                                                 | 1/30 [00:03<01:39,  3.44s/it]\u001b[A\n",
      "100%|█████████████████████████████████████████████████████████████████████████████████████████████████████████████████████████████████████| 30/30 [00:03<00:00,  8.31it/s]\u001b[A\n",
      "MADMl - Nested CV fit Fold: 4\n",
      "\n",
      "  0%|                                                                                                                                              | 0/30 [00:00<?, ?it/s]\u001b[A\n",
      "  3%|████▍                                                                                                                                 | 1/30 [00:03<01:30,  3.12s/it]\u001b[A\n",
      "  7%|████████▉                                                                                                                             | 2/30 [00:03<00:39,  1.42s/it]\u001b[A\n",
      "100%|█████████████████████████████████████████████████████████████████████████████████████████████████████████████████████████████████████| 30/30 [00:03<00:00,  8.37it/s]\u001b[A\n",
      "MADMl - Nested CV fit Fold: 5\n",
      "\n",
      "  0%|                                                                                                                                              | 0/30 [00:00<?, ?it/s]\u001b[A\n",
      "  3%|████▍                                                                                                                                 | 1/30 [00:02<01:21,  2.82s/it]\u001b[A\n",
      "100%|█████████████████████████████████████████████████████████████████████████████████████████████████████████████████████████████████████| 30/30 [00:03<00:00,  8.44it/s]\u001b[A\n",
      "MADMl - Nested CV fit Fold: 6\n",
      "\n",
      "  0%|                                                                                                                                              | 0/30 [00:00<?, ?it/s]\u001b[A\n",
      "  3%|████▍                                                                                                                                 | 1/30 [00:03<01:41,  3.49s/it]\u001b[A\n",
      "100%|█████████████████████████████████████████████████████████████████████████████████████████████████████████████████████████████████████| 30/30 [00:03<00:00,  8.32it/s]\u001b[A\n",
      "MADMl - Nested CV fit Fold: 7\n",
      "\n",
      "  0%|                                                                                                                                              | 0/30 [00:00<?, ?it/s]\u001b[A\n",
      "100%|█████████████████████████████████████████████████████████████████████████████████████████████████████████████████████████████████████| 30/30 [00:03<00:00,  8.28it/s]\u001b[A\n",
      "MADMl - Nested CV fit Fold: 8\n",
      "\n",
      "  0%|                                                                                                                                              | 0/30 [00:00<?, ?it/s]\u001b[A\n",
      "  3%|████▍                                                                                                                                 | 1/30 [00:03<01:33,  3.23s/it]\u001b[A\n",
      " 10%|█████████████▍                                                                                                                        | 3/30 [00:03<00:24,  1.10it/s]\u001b[A\n",
      "100%|█████████████████████████████████████████████████████████████████████████████████████████████████████████████████████████████████████| 30/30 [00:03<00:00,  8.15it/s]\u001b[A\n",
      "MADMl - Nested CV fit Fold: 9\n",
      "\n",
      "  0%|                                                                                                                                              | 0/30 [00:00<?, ?it/s]\u001b[A\n",
      "100%|█████████████████████████████████████████████████████████████████████████████████████████████████████████████████████████████████████| 30/30 [00:03<00:00,  8.33it/s]\u001b[A\n",
      "MADMl - Nested CV fit Fold: 10\n",
      "\n",
      "  0%|                                                                                                                                              | 0/30 [00:00<?, ?it/s]\u001b[A\n",
      "  3%|████▍                                                                                                                                 | 1/30 [00:03<01:29,  3.08s/it]\u001b[A\n",
      "100%|█████████████████████████████████████████████████████████████████████████████████████████████████████████████████████████████████████| 30/30 [00:03<00:00,  8.57it/s]\u001b[A\n",
      "MADMl - Nested CV agglo_2 Fold: 1\n",
      "\n",
      "  0%|                                                                                                                                              | 0/30 [00:00<?, ?it/s]\u001b[A\n",
      "100%|█████████████████████████████████████████████████████████████████████████████████████████████████████████████████████████████████████| 30/30 [00:03<00:00,  9.39it/s]\u001b[A\n",
      "MADMl - Nested CV agglo_2 Fold: 2\n",
      "\n",
      "  0%|                                                                                                                                              | 0/30 [00:00<?, ?it/s]\u001b[A\n",
      "  3%|████▍                                                                                                                                 | 1/30 [00:01<00:30,  1.04s/it]\u001b[A\n",
      "100%|█████████████████████████████████████████████████████████████████████████████████████████████████████████████████████████████████████| 30/30 [00:01<00:00, 24.12it/s]\u001b[A\n",
      "MADMl - Nested CV agglo_2 Fold: 3\n",
      "\n",
      "  0%|                                                                                                                                              | 0/30 [00:00<?, ?it/s]\u001b[A\n",
      "100%|█████████████████████████████████████████████████████████████████████████████████████████████████████████████████████████████████████| 30/30 [00:03<00:00,  9.57it/s]\u001b[A\n",
      "MADMl - Nested CV agglo_2 Fold: 4\n",
      "\n",
      "  0%|                                                                                                                                              | 0/30 [00:00<?, ?it/s]\u001b[A\n",
      "  3%|████▍                                                                                                                                 | 1/30 [00:00<00:26,  1.09it/s]\u001b[A\n",
      " 10%|█████████████▍                                                                                                                        | 3/30 [00:01<00:07,  3.52it/s]\u001b[A\n",
      "100%|█████████████████████████████████████████████████████████████████████████████████████████████████████████████████████████████████████| 30/30 [00:01<00:00, 23.80it/s]\u001b[A\n",
      "MADMl - Nested CV agglo_3 Fold: 1\n",
      "\n",
      "  0%|                                                                                                                                              | 0/30 [00:00<?, ?it/s]\u001b[A\n",
      "  3%|████▍                                                                                                                                 | 1/30 [00:02<01:26,  2.99s/it]\u001b[A\n",
      "100%|█████████████████████████████████████████████████████████████████████████████████████████████████████████████████████████████████████| 30/30 [00:03<00:00,  9.40it/s]\u001b[A\n",
      "MADMl - Nested CV agglo_3 Fold: 2\n",
      "\n",
      "  0%|                                                                                                                                              | 0/30 [00:00<?, ?it/s]\u001b[A\n",
      "  3%|████▍                                                                                                                                 | 1/30 [00:01<00:57,  1.98s/it]\u001b[A\n",
      "100%|█████████████████████████████████████████████████████████████████████████████████████████████████████████████████████████████████████| 30/30 [00:02<00:00, 13.48it/s]\u001b[A\n",
      "MADMl - Nested CV agglo_3 Fold: 3\n",
      "\n",
      "  0%|                                                                                                                                              | 0/30 [00:00<?, ?it/s]\u001b[A\n",
      "  3%|████▍                                                                                                                                 | 1/30 [00:01<00:55,  1.92s/it]\u001b[A\n",
      "  7%|████████▉                                                                                                                             | 2/30 [00:02<00:28,  1.02s/it]\u001b[A\n",
      "100%|█████████████████████████████████████████████████████████████████████████████████████████████████████████████████████████████████████| 30/30 [00:02<00:00, 12.28it/s]\u001b[A\n",
      "MADMl - Nested CV agglo_3 Fold: 4\n",
      "\n",
      "  0%|                                                                                                                                              | 0/30 [00:00<?, ?it/s]\u001b[A\n",
      "  3%|████▍                                                                                                                                 | 1/30 [00:02<01:11,  2.47s/it]\u001b[A\n",
      "  7%|████████▉                                                                                                                             | 2/30 [00:02<00:36,  1.31s/it]\u001b[A\n",
      "100%|█████████████████████████████████████████████████████████████████████████████████████████████████████████████████████████████████████| 30/30 [00:03<00:00,  9.28it/s]\u001b[A\n",
      "MADMl - Nested CV agglo_3 Fold: 5\n",
      "\n",
      "  0%|                                                                                                                                              | 0/30 [00:00<?, ?it/s]\u001b[A\n",
      "  3%|████▍                                                                                                                                 | 1/30 [00:02<00:58,  2.02s/it]\u001b[A\n",
      "100%|█████████████████████████████████████████████████████████████████████████████████████████████████████████████████████████████████████| 30/30 [00:02<00:00, 12.93it/s]\u001b[A\n",
      "MADMl - Nested CV agglo_3 Fold: 6\n",
      "\n",
      "  0%|                                                                                                                                              | 0/30 [00:00<?, ?it/s]\u001b[A\n",
      "100%|█████████████████████████████████████████████████████████████████████████████████████████████████████████████████████████████████████| 30/30 [00:02<00:00, 12.25it/s]\u001b[A\n",
      "MADML - Making Full Fit Model\n",
      "\n",
      "  0%|                                                                                                                                              | 0/30 [00:00<?, ?it/s]\u001b[A\n",
      "  3%|████▍                                                                                                                                 | 1/30 [00:04<02:00,  4.15s/it]\u001b[A\n",
      "100%|█████████████████████████████████████████████████████████████████████████████████████████████████████████████████████████████████████| 30/30 [00:04<00:00,  7.02it/s]\u001b[A\n"
     ]
    },
    {
     "name": "stderr",
     "output_type": "stream",
     "text": [
      "Running splits: 100%|██████████████████████████████████████████████████████████████████████████████████████████████████████████████████████| 1/1 [02:32<00:00, 152.12s/it]\n"
     ]
    }
   ],
   "source": [
    "splitter = NoSplit()\n",
    "\n",
    "# Domain with MADML\n",
    "params = {'n_repeats': 2}\n",
    "domain = ('madml', params)\n",
    "\n",
    "splitter.evaluate(\n",
    "                  X=X,\n",
    "                  y=y,\n",
    "                  models=[model],\n",
    "                  preprocessor=preprocessor,\n",
    "                  metrics=metrics,\n",
    "                  plots=['Scatter', 'Histogram'],\n",
    "                  X_extra=X_extra,\n",
    "                  verbosity=3,\n",
    "                  domain=[domain],\n",
    "                  )"
   ]
  },
  {
   "cell_type": "markdown",
   "metadata": {},
   "source": [
    "Use fitted models and predict on sample data. Here we predict on the data we train on, but can be anything else."
   ]
  },
  {
   "cell_type": "code",
   "execution_count": 16,
   "metadata": {},
   "outputs": [
    {
     "name": "stdout",
     "output_type": "stream",
     "text": [
      "RandomForestRegressor_NoSplit_SklearnPreprocessor_NoSelect_2023_11_02_11_49_16\n",
      "       y_pred     y_err  Residual for 0.95  Residual for Max F1  \\\n",
      "0   -0.007841  0.062488                  0                    1   \n",
      "1    0.056112  0.205946                  1                    1   \n",
      "2    0.278220  0.141283                  1                    1   \n",
      "3   -0.038416  0.052946                  0                    1   \n",
      "4    0.307689  0.100968                  1                    1   \n",
      "..        ...       ...                ...                  ...   \n",
      "403 -0.030285  0.177594                  0                    1   \n",
      "404  0.128078  0.196010                  0                    1   \n",
      "405  0.213274  0.174223                  0                    1   \n",
      "406  0.151207  0.161292                  0                    1   \n",
      "407  0.181990  0.202337                  0                    1   \n",
      "\n",
      "     Uncertainty for 0.95  Uncertainty for Max F1      dist  \n",
      "0                       0                       0  0.884227  \n",
      "1                       1                       1  0.251691  \n",
      "2                       1                       1  0.283408  \n",
      "3                       0                       0  0.727743  \n",
      "4                       1                       1  0.257772  \n",
      "..                    ...                     ...       ...  \n",
      "403                     0                       0  0.816549  \n",
      "404                     0                       0  0.820780  \n",
      "405                     0                       0  0.800442  \n",
      "406                     0                       0  0.919245  \n",
      "407                     0                       0  0.934091  \n",
      "\n",
      "[408 rows x 7 columns]\n"
     ]
    }
   ],
   "source": [
    "file_to_move = glob.glob('Ran*')[0]\n",
    "print(file_to_move)\n",
    "subprocess.run(['mv', file_to_move, 'output'])\n",
    "path_fullfit = './output/split_0'\n",
    "\n",
    "model_path = os.path.join(path_fullfit, 'RandomForestRegressor.pkl')\n",
    "preprocessor_path = os.path.join(path_fullfit, 'StandardScaler.pkl')\n",
    "domain_path = list(map(str, Path(path_fullfit).rglob('domain_*.pkl')))\n",
    "\n",
    "pred_df = make_prediction(\n",
    "                          X_train=X,\n",
    "                          y_train=y,\n",
    "                          X_test=X,\n",
    "                          model=model_path,\n",
    "                          preprocessor=preprocessor_path,\n",
    "                          domain=domain_path,\n",
    "                          )\n",
    "\n",
    "print(pred_df)"
   ]
  },
  {
   "cell_type": "markdown",
   "metadata": {},
   "source": [
    "We can also change the default thresholds for prediction and add our own."
   ]
  },
  {
   "cell_type": "code",
   "execution_count": 17,
   "metadata": {},
   "outputs": [
    {
     "name": "stdout",
     "output_type": "stream",
     "text": [
      "       y_pred     y_err  Residual for 0.75  Uncertainty for 0.2      dist\n",
      "0   -0.007841  0.062488                  0                    0  0.884227\n",
      "1    0.056112  0.205946                  1                    0  0.251691\n",
      "2    0.278220  0.141283                  1                    0  0.283408\n",
      "3   -0.038416  0.052946                  1                    0  0.727743\n",
      "4    0.307689  0.100968                  1                    0  0.257772\n",
      "..        ...       ...                ...                  ...       ...\n",
      "403 -0.030285  0.177594                  0                    0  0.816549\n",
      "404  0.128078  0.196010                  0                    0  0.820780\n",
      "405  0.213274  0.174223                  0                    0  0.800442\n",
      "406  0.151207  0.161292                  0                    0  0.919245\n",
      "407  0.181990  0.202337                  0                    0  0.934091\n",
      "\n",
      "[408 rows x 5 columns]\n"
     ]
    }
   ],
   "source": [
    "thresholds = [('residual', 0.75), ('uncertainty', 0.2)]\n",
    "\n",
    "pred_df = make_prediction(\n",
    "                          X_train=X,\n",
    "                          y_train=y,\n",
    "                          X_test=X,\n",
    "                          model=model_path,\n",
    "                          preprocessor=preprocessor_path,\n",
    "                          domain=domain_path,\n",
    "                          madml_thresholds=thresholds\n",
    "                          )\n",
    "\n",
    "print(pred_df)"
   ]
  },
  {
   "cell_type": "code",
   "execution_count": null,
   "metadata": {},
   "outputs": [],
   "source": []
  }
 ],
 "metadata": {
  "colab": {
   "provenance": []
  },
  "kernelspec": {
   "display_name": "Python 3 (ipykernel)",
   "language": "python",
   "name": "python3"
  },
  "language_info": {
   "codemirror_mode": {
    "name": "ipython",
    "version": 3
   },
   "file_extension": ".py",
   "mimetype": "text/x-python",
   "name": "python",
   "nbconvert_exporter": "python",
   "pygments_lexer": "ipython3",
   "version": "3.10.12"
  }
 },
 "nbformat": 4,
 "nbformat_minor": 4
}
