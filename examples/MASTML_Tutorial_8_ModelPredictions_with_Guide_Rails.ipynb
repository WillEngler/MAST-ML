{
  "nbformat": 4,
  "nbformat_minor": 0,
  "metadata": {
    "colab": {
      "provenance": []
    },
    "kernelspec": {
      "name": "python3",
      "display_name": "Python 3"
    },
    "language_info": {
      "name": "python"
    }
  },
  "cells": [
    {
      "cell_type": "markdown",
      "source": [
        "# Welcome to the eighth MAST-ML tutorial notebook, \n",
        "\n",
        "# Model predictions with guide rails with MAST-ML! \n",
        "\n",
        "## In this notebook, we will learn how to perform simple checks on our test data:\n",
        "\n",
        "1. [Set up MAST-ML on Colab and begin session](#task1)\n",
        "2. [Fit models and check elemental spaces](#task2)\n",
        "3. [Fit models and check Gaussian Process Error Bars](#task3)\n",
        "\n",
        "We need to first install dependencies"
      ],
      "metadata": {
        "id": "zEuScQa-YTxH"
      }
    },
    {
      "cell_type": "markdown",
      "source": [
        "## Task 1: Set up MAST-ML on Colab and begin session <a name=\"task1\"></a>"
      ],
      "metadata": {
        "id": "qAaWiiqccj0Z"
      }
    },
    {
      "cell_type": "code",
      "execution_count": 12,
      "metadata": {
        "colab": {
          "base_uri": "https://localhost:8080/"
        },
        "id": "3s7adwqvUvzm",
        "outputId": "3c1f9218-db03-4b2b-dd7f-2d164e10dfaa"
      },
      "outputs": [
        {
          "output_type": "stream",
          "name": "stdout",
          "text": [
            "Looking in indexes: https://pypi.org/simple, https://us-python.pkg.dev/colab-wheels/public/simple/\n",
            "Collecting git+https://github.com/uw-cmg/MAST-ML/@dev_lane\n",
            "  Cloning https://github.com/uw-cmg/MAST-ML/ (to revision dev_lane) to /tmp/pip-req-build-ek04wh27\n",
            "  Running command git clone --filter=blob:none --quiet https://github.com/uw-cmg/MAST-ML/ /tmp/pip-req-build-ek04wh27\n",
            "  Running command git checkout -b dev_lane --track origin/dev_lane\n",
            "  Switched to a new branch 'dev_lane'\n",
            "  Branch 'dev_lane' set up to track remote branch 'dev_lane' from 'origin'.\n",
            "  Resolved https://github.com/uw-cmg/MAST-ML/ to commit 1b5d87ef5cada0eb689e7d41783a7d4e66cb0237\n",
            "  Preparing metadata (setup.py) ... \u001b[?25l\u001b[?25hdone\n",
            "Requirement already satisfied: citrination-client in /usr/local/lib/python3.9/dist-packages (from mastml==3.1.4) (6.5.1)\n",
            "Requirement already satisfied: dlhub_sdk in /usr/local/lib/python3.9/dist-packages (from mastml==3.1.4) (1.1.1)\n",
            "Requirement already satisfied: globus_nexus_client in /usr/local/lib/python3.9/dist-packages (from mastml==3.1.4) (0.4.1)\n",
            "Requirement already satisfied: globus_sdk in /usr/local/lib/python3.9/dist-packages (from mastml==3.1.4) (3.17.0)\n",
            "Requirement already satisfied: matminer in /usr/local/lib/python3.9/dist-packages (from mastml==3.1.4) (0.8.0)\n",
            "Requirement already satisfied: matplotlib in /usr/local/lib/python3.9/dist-packages (from mastml==3.1.4) (3.5.3)\n",
            "Requirement already satisfied: mdf_forge in /usr/local/lib/python3.9/dist-packages (from mastml==3.1.4) (0.8.0)\n",
            "Requirement already satisfied: mdf-toolbox in /usr/local/lib/python3.9/dist-packages (from mastml==3.1.4) (0.6.0)\n",
            "Requirement already satisfied: mlxtend in /usr/local/lib/python3.9/dist-packages (from mastml==3.1.4) (0.14.0)\n",
            "Requirement already satisfied: numpy in /usr/local/lib/python3.9/dist-packages (from mastml==3.1.4) (1.22.4)\n",
            "Requirement already satisfied: openpyxl in /usr/local/lib/python3.9/dist-packages (from mastml==3.1.4) (3.0.10)\n",
            "Requirement already satisfied: pandas in /usr/local/lib/python3.9/dist-packages (from mastml==3.1.4) (1.4.4)\n",
            "Requirement already satisfied: pymatgen==2021.3.9 in /usr/local/lib/python3.9/dist-packages (from mastml==3.1.4) (2021.3.9)\n",
            "Requirement already satisfied: scikit-learn>=0.24.1 in /usr/local/lib/python3.9/dist-packages (from mastml==3.1.4) (1.2.2)\n",
            "Requirement already satisfied: scikit-learn-extra in /usr/local/lib/python3.9/dist-packages (from mastml==3.1.4) (0.2.0)\n",
            "Requirement already satisfied: scikit-optimize in /usr/local/lib/python3.9/dist-packages (from mastml==3.1.4) (0.9.0)\n",
            "Requirement already satisfied: shap in /usr/local/lib/python3.9/dist-packages (from mastml==3.1.4) (0.41.0)\n",
            "Requirement already satisfied: scipy in /usr/local/lib/python3.9/dist-packages (from mastml==3.1.4) (1.10.1)\n",
            "Requirement already satisfied: sphinx-automodapi in /usr/local/lib/python3.9/dist-packages (from mastml==3.1.4) (0.15.0)\n",
            "Requirement already satisfied: pathos in /usr/local/lib/python3.9/dist-packages (from mastml==3.1.4) (0.2.9)\n",
            "Requirement already satisfied: spglib>=1.9.9.44 in /usr/local/lib/python3.9/dist-packages (from pymatgen==2021.3.9->mastml==3.1.4) (2.0.2)\n",
            "Requirement already satisfied: tabulate in /usr/local/lib/python3.9/dist-packages (from pymatgen==2021.3.9->mastml==3.1.4) (0.8.10)\n",
            "Requirement already satisfied: monty>=3.0.2 in /usr/local/lib/python3.9/dist-packages (from pymatgen==2021.3.9->mastml==3.1.4) (2022.9.9)\n",
            "Requirement already satisfied: requests in /usr/local/lib/python3.9/dist-packages (from pymatgen==2021.3.9->mastml==3.1.4) (2.28.2)\n",
            "Requirement already satisfied: palettable>=3.1.1 in /usr/local/lib/python3.9/dist-packages (from pymatgen==2021.3.9->mastml==3.1.4) (3.3.0)\n",
            "Requirement already satisfied: uncertainties>=3.1.4 in /usr/local/lib/python3.9/dist-packages (from pymatgen==2021.3.9->mastml==3.1.4) (3.1.7)\n",
            "Requirement already satisfied: ruamel.yaml>=0.15.6 in /usr/local/lib/python3.9/dist-packages (from pymatgen==2021.3.9->mastml==3.1.4) (0.17.21)\n",
            "Requirement already satisfied: sympy in /usr/local/lib/python3.9/dist-packages (from pymatgen==2021.3.9->mastml==3.1.4) (1.7.1)\n",
            "Requirement already satisfied: networkx>=2.2 in /usr/local/lib/python3.9/dist-packages (from pymatgen==2021.3.9->mastml==3.1.4) (3.0)\n",
            "Requirement already satisfied: plotly>=4.5.0 in /usr/local/lib/python3.9/dist-packages (from pymatgen==2021.3.9->mastml==3.1.4) (5.5.0)\n",
            "Requirement already satisfied: kiwisolver>=1.0.1 in /usr/local/lib/python3.9/dist-packages (from matplotlib->mastml==3.1.4) (1.4.4)\n",
            "Requirement already satisfied: cycler>=0.10 in /usr/local/lib/python3.9/dist-packages (from matplotlib->mastml==3.1.4) (0.11.0)\n",
            "Requirement already satisfied: pillow>=6.2.0 in /usr/local/lib/python3.9/dist-packages (from matplotlib->mastml==3.1.4) (8.4.0)\n",
            "Requirement already satisfied: pyparsing>=2.2.1 in /usr/local/lib/python3.9/dist-packages (from matplotlib->mastml==3.1.4) (3.0.9)\n",
            "Requirement already satisfied: fonttools>=4.22.0 in /usr/local/lib/python3.9/dist-packages (from matplotlib->mastml==3.1.4) (4.39.0)\n",
            "Requirement already satisfied: packaging>=20.0 in /usr/local/lib/python3.9/dist-packages (from matplotlib->mastml==3.1.4) (23.0)\n",
            "Requirement already satisfied: python-dateutil>=2.7 in /usr/local/lib/python3.9/dist-packages (from matplotlib->mastml==3.1.4) (2.8.2)\n",
            "Requirement already satisfied: joblib>=1.1.1 in /usr/local/lib/python3.9/dist-packages (from scikit-learn>=0.24.1->mastml==3.1.4) (1.1.1)\n",
            "Requirement already satisfied: threadpoolctl>=2.0.0 in /usr/local/lib/python3.9/dist-packages (from scikit-learn>=0.24.1->mastml==3.1.4) (3.1.0)\n",
            "Requirement already satisfied: six<2 in /usr/local/lib/python3.9/dist-packages (from citrination-client->mastml==3.1.4) (1.15.0)\n",
            "Requirement already satisfied: pypif in /usr/local/lib/python3.9/dist-packages (from citrination-client->mastml==3.1.4) (2.1.2)\n",
            "Requirement already satisfied: pyyaml>=5.1.2 in /usr/local/lib/python3.9/dist-packages (from citrination-client->mastml==3.1.4) (6.0)\n",
            "Requirement already satisfied: pydantic in /usr/local/lib/python3.9/dist-packages (from dlhub_sdk->mastml==3.1.4) (1.10.6)\n",
            "Requirement already satisfied: jsonschema>=3.2.0 in /usr/local/lib/python3.9/dist-packages (from dlhub_sdk->mastml==3.1.4) (4.3.0)\n",
            "Requirement already satisfied: funcx>=1.0.0 in /usr/local/lib/python3.9/dist-packages (from dlhub_sdk->mastml==3.1.4) (1.0.11)\n",
            "Requirement already satisfied: typing-extensions>=4.0 in /usr/local/lib/python3.9/dist-packages (from globus_sdk->mastml==3.1.4) (4.5.0)\n",
            "Requirement already satisfied: cryptography!=3.4.0,>=3.3.1 in /usr/local/lib/python3.9/dist-packages (from globus_sdk->mastml==3.1.4) (39.0.2)\n",
            "Requirement already satisfied: pyjwt[crypto]<3.0.0,>=2.0.0 in /usr/local/lib/python3.9/dist-packages (from globus_sdk->mastml==3.1.4) (2.6.0)\n",
            "Requirement already satisfied: fair-research-login>=0.2.4 in /usr/local/lib/python3.9/dist-packages (from mdf-toolbox->mastml==3.1.4) (0.3.0)\n",
            "Requirement already satisfied: pymongo in /usr/local/lib/python3.9/dist-packages (from matminer->mastml==3.1.4) (4.3.3)\n",
            "Requirement already satisfied: future in /usr/local/lib/python3.9/dist-packages (from matminer->mastml==3.1.4) (0.16.0)\n",
            "Requirement already satisfied: tqdm in /usr/local/lib/python3.9/dist-packages (from matminer->mastml==3.1.4) (4.65.0)\n",
            "Requirement already satisfied: setuptools in /usr/local/lib/python3.9/dist-packages (from mlxtend->mastml==3.1.4) (63.4.3)\n",
            "Requirement already satisfied: pytz>=2020.1 in /usr/local/lib/python3.9/dist-packages (from pandas->mastml==3.1.4) (2022.7.1)\n",
            "Requirement already satisfied: et-xmlfile in /usr/local/lib/python3.9/dist-packages (from openpyxl->mastml==3.1.4) (1.1.0)\n",
            "Requirement already satisfied: multiprocess>=0.70.13 in /usr/local/lib/python3.9/dist-packages (from pathos->mastml==3.1.4) (0.70.13)\n",
            "Requirement already satisfied: ppft>=1.7.6.5 in /usr/local/lib/python3.9/dist-packages (from pathos->mastml==3.1.4) (1.7.6.6)\n",
            "Requirement already satisfied: pox>=0.3.1 in /usr/local/lib/python3.9/dist-packages (from pathos->mastml==3.1.4) (0.3.2)\n",
            "Requirement already satisfied: dill>=0.3.5.1 in /usr/local/lib/python3.9/dist-packages (from pathos->mastml==3.1.4) (0.3.5.1)\n",
            "Requirement already satisfied: pyaml>=16.9 in /usr/local/lib/python3.9/dist-packages (from scikit-optimize->mastml==3.1.4) (21.10.1)\n",
            "Requirement already satisfied: numba in /usr/local/lib/python3.9/dist-packages (from shap->mastml==3.1.4) (0.56.4)\n",
            "Requirement already satisfied: cloudpickle in /usr/local/lib/python3.9/dist-packages (from shap->mastml==3.1.4) (2.2.1)\n",
            "Requirement already satisfied: slicer==0.0.7 in /usr/local/lib/python3.9/dist-packages (from shap->mastml==3.1.4) (0.0.7)\n",
            "Requirement already satisfied: sphinx>=2 in /usr/local/lib/python3.9/dist-packages (from sphinx-automodapi->mastml==3.1.4) (3.5.4)\n",
            "Requirement already satisfied: cffi>=1.12 in /usr/local/lib/python3.9/dist-packages (from cryptography!=3.4.0,>=3.3.1->globus_sdk->mastml==3.1.4) (1.15.1)\n",
            "Requirement already satisfied: funcx-common==0.0.24 in /usr/local/lib/python3.9/dist-packages (from funcx>=1.0.0->dlhub_sdk->mastml==3.1.4) (0.0.24)\n",
            "Requirement already satisfied: tblib==1.7.0 in /usr/local/lib/python3.9/dist-packages (from funcx>=1.0.0->dlhub_sdk->mastml==3.1.4) (1.7.0)\n",
            "Requirement already satisfied: texttable>=1.6.7 in /usr/local/lib/python3.9/dist-packages (from funcx>=1.0.0->dlhub_sdk->mastml==3.1.4) (1.6.7)\n",
            "Requirement already satisfied: pika>=1.2 in /usr/local/lib/python3.9/dist-packages (from funcx>=1.0.0->dlhub_sdk->mastml==3.1.4) (1.3.1)\n",
            "Requirement already satisfied: websockets==10.3 in /usr/local/lib/python3.9/dist-packages (from funcx>=1.0.0->dlhub_sdk->mastml==3.1.4) (10.3)\n",
            "Requirement already satisfied: pyrsistent!=0.17.0,!=0.17.1,!=0.17.2,>=0.14.0 in /usr/local/lib/python3.9/dist-packages (from jsonschema>=3.2.0->dlhub_sdk->mastml==3.1.4) (0.19.3)\n",
            "Requirement already satisfied: attrs>=17.4.0 in /usr/local/lib/python3.9/dist-packages (from jsonschema>=3.2.0->dlhub_sdk->mastml==3.1.4) (22.2.0)\n",
            "Requirement already satisfied: tenacity>=6.2.0 in /usr/local/lib/python3.9/dist-packages (from plotly>=4.5.0->pymatgen==2021.3.9->mastml==3.1.4) (8.2.2)\n",
            "Requirement already satisfied: idna<4,>=2.5 in /usr/local/lib/python3.9/dist-packages (from requests->pymatgen==2021.3.9->mastml==3.1.4) (2.10)\n",
            "Requirement already satisfied: certifi>=2017.4.17 in /usr/local/lib/python3.9/dist-packages (from requests->pymatgen==2021.3.9->mastml==3.1.4) (2022.12.7)\n",
            "Requirement already satisfied: urllib3<1.27,>=1.21.1 in /usr/local/lib/python3.9/dist-packages (from requests->pymatgen==2021.3.9->mastml==3.1.4) (1.26.15)\n",
            "Requirement already satisfied: charset-normalizer<4,>=2 in /usr/local/lib/python3.9/dist-packages (from requests->pymatgen==2021.3.9->mastml==3.1.4) (3.1.0)\n",
            "Requirement already satisfied: ruamel.yaml.clib>=0.2.6 in /usr/local/lib/python3.9/dist-packages (from ruamel.yaml>=0.15.6->pymatgen==2021.3.9->mastml==3.1.4) (0.2.7)\n",
            "Requirement already satisfied: sphinxcontrib-htmlhelp in /usr/local/lib/python3.9/dist-packages (from sphinx>=2->sphinx-automodapi->mastml==3.1.4) (2.0.1)\n",
            "Requirement already satisfied: sphinxcontrib-applehelp in /usr/local/lib/python3.9/dist-packages (from sphinx>=2->sphinx-automodapi->mastml==3.1.4) (1.0.4)\n",
            "Requirement already satisfied: imagesize in /usr/local/lib/python3.9/dist-packages (from sphinx>=2->sphinx-automodapi->mastml==3.1.4) (1.4.1)\n",
            "Requirement already satisfied: babel>=1.3 in /usr/local/lib/python3.9/dist-packages (from sphinx>=2->sphinx-automodapi->mastml==3.1.4) (2.12.1)\n",
            "Requirement already satisfied: Pygments>=2.0 in /usr/local/lib/python3.9/dist-packages (from sphinx>=2->sphinx-automodapi->mastml==3.1.4) (2.6.1)\n",
            "Requirement already satisfied: alabaster<0.8,>=0.7 in /usr/local/lib/python3.9/dist-packages (from sphinx>=2->sphinx-automodapi->mastml==3.1.4) (0.7.13)\n",
            "Requirement already satisfied: sphinxcontrib-devhelp in /usr/local/lib/python3.9/dist-packages (from sphinx>=2->sphinx-automodapi->mastml==3.1.4) (1.0.2)\n",
            "Requirement already satisfied: sphinxcontrib-jsmath in /usr/local/lib/python3.9/dist-packages (from sphinx>=2->sphinx-automodapi->mastml==3.1.4) (1.0.1)\n",
            "Requirement already satisfied: sphinxcontrib-qthelp in /usr/local/lib/python3.9/dist-packages (from sphinx>=2->sphinx-automodapi->mastml==3.1.4) (1.0.3)\n",
            "Requirement already satisfied: docutils<0.17,>=0.12 in /usr/local/lib/python3.9/dist-packages (from sphinx>=2->sphinx-automodapi->mastml==3.1.4) (0.16)\n",
            "Requirement already satisfied: sphinxcontrib-serializinghtml in /usr/local/lib/python3.9/dist-packages (from sphinx>=2->sphinx-automodapi->mastml==3.1.4) (1.1.5)\n",
            "Requirement already satisfied: Jinja2>=2.3 in /usr/local/lib/python3.9/dist-packages (from sphinx>=2->sphinx-automodapi->mastml==3.1.4) (3.1.2)\n",
            "Requirement already satisfied: snowballstemmer>=1.1 in /usr/local/lib/python3.9/dist-packages (from sphinx>=2->sphinx-automodapi->mastml==3.1.4) (2.2.0)\n",
            "Requirement already satisfied: llvmlite<0.40,>=0.39.0dev0 in /usr/local/lib/python3.9/dist-packages (from numba->shap->mastml==3.1.4) (0.39.1)\n",
            "Requirement already satisfied: dnspython<3.0.0,>=1.16.0 in /usr/local/lib/python3.9/dist-packages (from pymongo->matminer->mastml==3.1.4) (2.3.0)\n",
            "Requirement already satisfied: mpmath>=0.19 in /usr/local/lib/python3.9/dist-packages (from sympy->pymatgen==2021.3.9->mastml==3.1.4) (1.3.0)\n",
            "Requirement already satisfied: pycparser in /usr/local/lib/python3.9/dist-packages (from cffi>=1.12->cryptography!=3.4.0,>=3.3.1->globus_sdk->mastml==3.1.4) (2.21)\n",
            "Requirement already satisfied: MarkupSafe>=2.0 in /usr/local/lib/python3.9/dist-packages (from Jinja2>=2.3->sphinx>=2->sphinx-automodapi->mastml==3.1.4) (2.1.2)\n",
            "Looking in indexes: https://pypi.org/simple, https://us-python.pkg.dev/colab-wheels/public/simple/\n",
            "Collecting pyyaml==5.4.1\n",
            "  Downloading PyYAML-5.4.1-cp39-cp39-manylinux1_x86_64.whl (630 kB)\n",
            "\u001b[2K     \u001b[90m━━━━━━━━━━━━━━━━━━━━━━━━━━━━━━━━━━━━━━\u001b[0m \u001b[32m630.1/630.1 KB\u001b[0m \u001b[31m10.1 MB/s\u001b[0m eta \u001b[36m0:00:00\u001b[0m\n",
            "\u001b[?25hInstalling collected packages: pyyaml\n",
            "  Attempting uninstall: pyyaml\n",
            "    Found existing installation: PyYAML 6.0\n",
            "    Uninstalling PyYAML-6.0:\n",
            "      Successfully uninstalled PyYAML-6.0\n",
            "Successfully installed pyyaml-5.4.1\n"
          ]
        }
      ],
      "source": [
        "!pip install git+https://github.com/uw-cmg/MAST-ML/@dev_lane\n",
        "!pip install pyyaml==5.4.1"
      ]
    },
    {
      "cell_type": "markdown",
      "source": [
        "Mount Google Drive to save output from runs."
      ],
      "metadata": {
        "id": "eHnQfNrgY3Uu"
      }
    },
    {
      "cell_type": "code",
      "source": [
        "from google.colab import drive\n",
        "drive.mount('/content/drive', force_remount=True)\n"
      ],
      "metadata": {
        "colab": {
          "base_uri": "https://localhost:8080/"
        },
        "id": "0enGVD7QVO4G",
        "outputId": "89c19595-03dc-433f-ffd3-09f8089ee794"
      },
      "execution_count": 13,
      "outputs": [
        {
          "output_type": "stream",
          "name": "stdout",
          "text": [
            "Mounted at /content/drive\n"
          ]
        }
      ]
    },
    {
      "cell_type": "markdown",
      "source": [
        "Import needed packages and subroutines for running example."
      ],
      "metadata": {
        "id": "oHJq2q2fZCRD"
      }
    },
    {
      "cell_type": "code",
      "source": [
        "from mastml.mastml import Mastml\n",
        "from mastml.datasets import LocalDatasets\n",
        "from mastml.models import SklearnModel, EnsembleModel\n",
        "from mastml.preprocessing import SklearnPreprocessor\n",
        "from mastml.data_splitters import SklearnDataSplitter, NoSplit, LeaveOutPercent\n",
        "from mastml.feature_selectors import EnsembleModelFeatureSelector\n",
        "import mastml\n",
        "import os\n",
        "try:\n",
        "    data_path = os.path.join(mastml.__path__._path[0], 'data')\n",
        "except:\n",
        "    data_path = os.path.join(mastml.__path__[0], 'data')\n"
      ],
      "metadata": {
        "id": "_eM1p76gW2Yt"
      },
      "execution_count": 19,
      "outputs": []
    },
    {
      "cell_type": "markdown",
      "source": [
        "Define the path to save data."
      ],
      "metadata": {
        "id": "vzqT3_kEZF58"
      }
    },
    {
      "cell_type": "code",
      "source": [
        "SAVEPATH = 'drive/MyDrive/MASTML_tutorial_8_ModelPredictions_with_Guide_Rails'\n",
        "\n",
        "mastml_instance = Mastml(savepath=SAVEPATH)\n",
        "savepath = mastml_instance.get_savepath"
      ],
      "metadata": {
        "id": "MrBExmXsW6-F"
      },
      "execution_count": 20,
      "outputs": []
    },
    {
      "cell_type": "markdown",
      "source": [
        "Load the standard diffusion dataset."
      ],
      "metadata": {
        "id": "LT_CrB5rZIS6"
      }
    },
    {
      "cell_type": "code",
      "source": [
        "target = 'E_regression'\n",
        "\n",
        "extra_columns = ['Material compositions 1', 'Material compositions 2', 'Hop activation barrier']\n",
        "d = LocalDatasets(file_path=data_path+'/diffusion_data_allfeatures.xlsx', \n",
        "                  target=target, \n",
        "                  extra_columns=extra_columns, \n",
        "                  group_column='Material compositions 1',\n",
        "                  testdata_columns=None,\n",
        "                  as_frame=True)\n",
        "\n",
        "# Load the data with the load_data() method\n",
        "data_dict = d.load_data()\n",
        "\n",
        "# Let's assign each data object to its respective name\n",
        "X = data_dict['X']\n",
        "y = data_dict['y']\n",
        "X_extra = data_dict['X_extra']\n",
        "groups = data_dict['groups']\n",
        "X_testdata = data_dict['X_testdata']\n",
        "\n",
        "metrics = [\n",
        "           'r2_score',\n",
        "           'mean_absolute_error',\n",
        "           'root_mean_squared_error',\n",
        "           'rmse_over_stdev',\n",
        "           ]\n"
      ],
      "metadata": {
        "colab": {
          "base_uri": "https://localhost:8080/"
        },
        "id": "fcUd8ESJXrX-",
        "outputId": "be47bd3a-c16e-4aed-ddfd-b1fe29df2314"
      },
      "execution_count": 24,
      "outputs": [
        {
          "output_type": "stream",
          "name": "stdout",
          "text": [
            "WARNING: feature_names not specified but target was specified. Assuming all columns except target and extra columns are features\n"
          ]
        }
      ]
    },
    {
      "cell_type": "markdown",
      "source": [
        "## Task 2: Fit models and check elemental spaces <a name=\"task1\"></a>"
      ],
      "metadata": {
        "id": "QvwP116Dcrxa"
      }
    },
    {
      "cell_type": "markdown",
      "source": [
        "Setup machine learning which checks if an element from a test set was observed within the training set. If all elements from the test set are observed in the training set, the case is marked as \"in_domain\". If only some elements from the test set are observed in training data, then the case is marked as \"maybe_in_domain\". If none of the test elements are observed within training data, then the case is flagged as \"out_of_domain\"."
      ],
      "metadata": {
        "id": "SPUKH1kyZPGN"
      }
    },
    {
      "cell_type": "code",
      "source": [
        "preprocessor = SklearnPreprocessor(\n",
        "                                   preprocessor='StandardScaler',\n",
        "                                   as_frame=True,\n",
        "                                   )\n",
        "\n",
        "model = SklearnModel(model='RandomForestRegressor')\n",
        "\n",
        "splitter = SklearnDataSplitter(\n",
        "                               splitter='RepeatedKFold',\n",
        "                               n_repeats=10,\n",
        "                               n_splits=5,\n",
        "                               )\n",
        "splitter.evaluate(\n",
        "                  X=X,\n",
        "                  y=y, \n",
        "                  models=[model],\n",
        "                  preprocessor=preprocessor,\n",
        "                  metrics=metrics,\n",
        "                  plots=['Scatter', 'Histogram'],\n",
        "                  X_extra=X_extra,\n",
        "                  verbosity=3,\n",
        "                  domain=('elemental', groups),\n",
        "                  )"
      ],
      "metadata": {
        "id": "cy2nvl13X86O"
      },
      "execution_count": 25,
      "outputs": []
    },
    {
      "cell_type": "markdown",
      "source": [
        "Here we use the error bars inherently in Gaussian Process Regression (GPR) to determine if we should flag a case as worrisome. Through 5-fold cross validation, we attain the maximum uncertainty from GPR and compare to tets cases. If the test case unceratinty is grater than the maximum training uncertainty, we mark the observation as \"out_of_domain\" and \"in_domain\" otherwise."
      ],
      "metadata": {
        "id": "1-K4ILEEZuHG"
      }
    },
    {
      "cell_type": "markdown",
      "source": [
        "## Task 3: Fit models and check Gaussian Process Error Bars <a name=\"task1\"></a>"
      ],
      "metadata": {
        "id": "Gce-RKGWc2c4"
      }
    },
    {
      "cell_type": "code",
      "source": [
        "splitter.evaluate(\n",
        "                  X=X,\n",
        "                  y=y, \n",
        "                  models=[model],\n",
        "                  preprocessor=preprocessor,\n",
        "                  metrics=metrics,\n",
        "                  plots=['Scatter', 'Histogram'],\n",
        "                  X_extra=X_extra,\n",
        "                  verbosity=3,\n",
        "                  domain='gpr',\n",
        "                  )"
      ],
      "metadata": {
        "colab": {
          "base_uri": "https://localhost:8080/"
        },
        "id": "-SvERU85YBa9",
        "outputId": "5cd66eae-0ff6-4e7c-a8b8-62a49cedd115"
      },
      "execution_count": 26,
      "outputs": [
        {
          "output_type": "stream",
          "name": "stdout",
          "text": [
            "Warning: unable to make Scatter.plot_best_worst_per_point plot. Skipping...\n"
          ]
        }
      ]
    }
  ]
}